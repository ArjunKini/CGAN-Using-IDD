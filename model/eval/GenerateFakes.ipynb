{
  "nbformat": 4,
  "nbformat_minor": 0,
  "metadata": {
    "colab": {
      "name": "GenerateFakes.ipynb",
      "version": "0.3.2",
      "provenance": [],
      "collapsed_sections": []
    },
    "kernelspec": {
      "name": "python3",
      "display_name": "Python 3"
    },
    "accelerator": "GPU"
  },
  "cells": [
    {
      "cell_type": "code",
      "metadata": {
        "id": "iNjtWCjRvgOE",
        "colab_type": "code",
        "outputId": "86b022cb-c55d-410a-86aa-4bc6d5743ed6",
        "colab": {
          "base_uri": "https://localhost:8080/",
          "height": 122
        }
      },
      "source": [
        "from google.colab import drive\n",
        "drive.mount('/content/drive')"
      ],
      "execution_count": 0,
      "outputs": [
        {
          "output_type": "stream",
          "text": [
            "Go to this URL in a browser: https://accounts.google.com/o/oauth2/auth?client_id=947318989803-6bn6qk8qdgf4n4g3pfee6491hc0brc4i.apps.googleusercontent.com&redirect_uri=urn%3Aietf%3Awg%3Aoauth%3A2.0%3Aoob&scope=email%20https%3A%2F%2Fwww.googleapis.com%2Fauth%2Fdocs.test%20https%3A%2F%2Fwww.googleapis.com%2Fauth%2Fdrive%20https%3A%2F%2Fwww.googleapis.com%2Fauth%2Fdrive.photos.readonly%20https%3A%2F%2Fwww.googleapis.com%2Fauth%2Fpeopleapi.readonly&response_type=code\n",
            "\n",
            "Enter your authorization code:\n",
            "··········\n",
            "Mounted at /content/drive\n"
          ],
          "name": "stdout"
        }
      ]
    },
    {
      "cell_type": "code",
      "metadata": {
        "id": "vpWHRcs9wO4g",
        "colab_type": "code",
        "outputId": "a0096d3b-8c78-452f-eac7-e8833eef2e54",
        "colab": {
          "base_uri": "https://localhost:8080/",
          "height": 34
        }
      },
      "source": [
        "\n",
        "import time\n",
        "import torch\n",
        "import torch.nn as nn\n",
        "import os\n",
        "from PIL import Image\n",
        "import numpy as np\n",
        "import glob\n",
        "from random import randint, shuffle\n",
        "from io import BytesIO\n",
        "from torch.autograd import Variable\n",
        "import torchvision.transforms as transforms\n",
        "import cv2\n",
        "def resize_image(im,bandwidth=256):\n",
        "    \n",
        "    img = im.resize((bandwidth, bandwidth),  Image.ANTIALIAS)\n",
        "    img=np.array(img)/255*2-1\n",
        "    img=img[:,:,:3]\n",
        "    img = np.moveaxis(img, 2, 0)\n",
        "    return img\n",
        "\n",
        "class UBlock(nn.Module):\n",
        "    def __init__(self, s, nf_in, max_nf, use_batchnorm=True, nf_out=None, nf_next=None):\n",
        "        super(UBlock, self).__init__()\n",
        "        #print(\"Initializing ublock- size of s =\", s)\n",
        "        assert s>=2 and s%2==0\n",
        "        nf_next = nf_next if nf_next else min(nf_in*2, max_nf)\n",
        "        nf_out = nf_out if nf_out else nf_in            \n",
        "        self.conv = nn.Conv2d(nf_in, nf_next, 4, 2, 1, bias=not (use_batchnorm and s>2) )\n",
        "        if s>2:\n",
        "            next_block = [nn.BatchNorm2d(nf_next)] if use_batchnorm else []\n",
        "            next_block += [nn.LeakyReLU(0.2, inplace=True), UBlock(s//2, nf_next, max_nf)]\n",
        "            self.next_block = nn.Sequential(*next_block)\n",
        "        else:\n",
        "            self.next_block = None\n",
        "        convt = [nn.ReLU(), \n",
        "                 nn.ConvTranspose2d(nf_next*2 if self.next_block else nf_next, nf_out,\n",
        "                                        kernel_size=4, stride=2,padding=1, bias=not use_batchnorm)]    \n",
        "        if use_batchnorm:\n",
        "            convt += [nn.BatchNorm2d(nf_out)]        \n",
        "        if s <= 8:\n",
        "            convt += [nn.Dropout(0.5, inplace=True)]\n",
        "        self.convt = nn.Sequential(*convt)  \n",
        "\n",
        "    def forward(self, x):\n",
        "        x = self.conv(x)\n",
        "        if self.next_block:\n",
        "            \n",
        "            x2 = self.next_block(x)\n",
        "            x = torch.cat((x,x2),1)\n",
        "        return self.convt(x)        \n",
        "\n",
        "\n",
        "def UNET_G(isize, nc_in=3, nc_out=3, ngf=64):\n",
        "    return nn.Sequential(\n",
        "                  UBlock(isize, nc_in, 8*ngf, False, nf_out=nc_out, nf_next=ngf),\n",
        "                  nn.Tanh() )\n",
        "\n",
        "def netG_gen(A):\n",
        "    return netG(A) \n",
        "imageSize=256\n",
        "netG = UNET_G(isize=256, nc_in=3, nc_out=3, ngf=64)\n",
        "netG.cuda()\n",
        "device = torch.device('cuda')\n",
        "\n",
        "if os.path.exists(\"/content/drive/My Drive/sceneGen/Generator.pt\"):\n",
        "  netG=torch.load(\"/content/drive/My Drive/sceneGen/Generator.pt\", map_location=\"cuda:0\")\n",
        "  netG.to(device=device,dtype=torch.float)\n",
        "\n",
        "\n",
        "print(\"model ready\")"
      ],
      "execution_count": 0,
      "outputs": [
        {
          "output_type": "stream",
          "text": [
            "model ready\n"
          ],
          "name": "stdout"
        }
      ]
    },
    {
      "cell_type": "code",
      "metadata": {
        "id": "PLpc25ikxrUQ",
        "colab_type": "code",
        "colab": {}
      },
      "source": [
        "import glob\n",
        "anuepath=\"/content/drive/My Drive/anue_eval\"\n",
        "Fake=glob.glob(anuepath+'/gtFine/*_labelColors.png')\n",
        "input_paths=sorted(Fake)\n"
      ],
      "execution_count": 0,
      "outputs": []
    },
    {
      "cell_type": "code",
      "metadata": {
        "id": "mmdKbTVvyHcy",
        "colab_type": "code",
        "outputId": "e7aebe56-5b99-463d-dd65-983df7c715a8",
        "colab": {
          "base_uri": "https://localhost:8080/",
          "height": 187
        }
      },
      "source": [
        "i=0\n",
        "for path_to_input_img in input_paths:\n",
        "  image = Image.open(path_to_input_img,'r')\n",
        "  image=resize_image(image)\n",
        "  image=np.expand_dims(image, axis=0)\n",
        "  \n",
        "  #making input into pytorch variable\n",
        "  \n",
        "  image=Variable(torch.from_numpy(image).cuda())\n",
        "  #getting output from network\n",
        "  output= netG_gen(image.float()).cpu().detach().numpy()\n",
        "  #manipulating output image\n",
        "  int_X = ( (output+1)/2*255).clip(0,255).astype('uint8')\n",
        "  int_X = np.moveaxis(int_X.reshape(-1,3,imageSize,imageSize), 1, 3)\n",
        "  int_X = int_X.reshape(-1, imageSize, imageSize,3).reshape(imageSize,-1, 3)\n",
        "  path_to_output_img = anuepath+\"/generated/\"+path_to_input_img[41:path_to_input_img.index(\"_gtFine\")]+\"_generated.jpg\"\n",
        "  response=Image.fromarray(int_X).resize((1280,964),Image.ANTIALIAS)\n",
        "  response.save(path_to_output_img)\n",
        "  if i%100==0:\n",
        "    print(i)\n",
        "  i+=1"
      ],
      "execution_count": 0,
      "outputs": [
        {
          "output_type": "stream",
          "text": [
            "0\n",
            "100\n",
            "200\n",
            "300\n",
            "400\n",
            "500\n",
            "600\n",
            "700\n",
            "800\n",
            "900\n"
          ],
          "name": "stdout"
        }
      ]
    },
    {
      "cell_type": "code",
      "metadata": {
        "id": "u1gDEXYr4yeE",
        "colab_type": "code",
        "colab": {}
      },
      "source": [
        ""
      ],
      "execution_count": 0,
      "outputs": []
    }
  ]
}